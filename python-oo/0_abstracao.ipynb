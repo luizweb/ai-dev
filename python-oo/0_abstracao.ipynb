{
 "cells": [
  {
   "cell_type": "markdown",
   "id": "dc140f1e",
   "metadata": {},
   "source": [
    "## Abstração"
   ]
  },
  {
   "cell_type": "code",
   "execution_count": null,
   "id": "dd003504",
   "metadata": {},
   "outputs": [
    {
     "data": {
      "text/plain": [
       "[1, 2, 3, 6, 7, 8]"
      ]
     },
     "execution_count": 3,
     "metadata": {},
     "output_type": "execute_result"
    }
   ],
   "source": [
    "\"\"\"\n",
    "# Abstração de procesos\n",
    "\n",
    "A função sorted representa uma abstração de processos. Por exemplo, o usuário\n",
    "não precisa saber qual é a função de ordenação que está sendo usada. Poderia\n",
    "ser um merge sort, bubble sort, insertion sort.\n",
    "\n",
    "algoritmo TimSort\n",
    "\"\"\"\n",
    "\n",
    "lista = [6, 7, 8, 1, 2, 3]\n",
    "\n",
    "sorted(lista)"
   ]
  },
  {
   "cell_type": "code",
   "execution_count": 6,
   "id": "c5ddcfcb",
   "metadata": {},
   "outputs": [
    {
     "name": "stdout",
     "output_type": "stream",
     "text": [
      "1\n"
     ]
    }
   ],
   "source": [
    "\"\"\"\n",
    "# Abstração de dados\n",
    "\n",
    "A abstração de dados pode ser definida como uma representação de dados de\n",
    "um tipo de dados específico.\n",
    "\n",
    "Um dado abstrato é chamado de tipo\n",
    "\n",
    "Exemplificando, em python temos vários tipos, ou várias abstrações:\n",
    "● String -> Abstração de uma palavra\n",
    "● int, float, complex... -> abstração de números\n",
    "● Listas, tuplas, conjuntos -> abstrações de coleções de coisas abstratas\n",
    "\n",
    "e Tipos definidos pelo usuário\n",
    "\n",
    "\"\"\"\n",
    "print(int(1))\n"
   ]
  },
  {
   "cell_type": "markdown",
   "id": "d8ff0762",
   "metadata": {},
   "source": [
    "## Classes"
   ]
  },
  {
   "cell_type": "code",
   "execution_count": 11,
   "id": "4476b7ec",
   "metadata": {},
   "outputs": [],
   "source": [
    "\"\"\"\n",
    "Classes\n",
    "Na programação uma classe pode ser uma “estrutura” para abstração de dados.\n",
    "Uma maneira de dizer a linguagem que você quer construir seu próprio tipo.\n",
    "\"\"\"\n",
    "\n",
    "class Carro:\n",
    "    pass"
   ]
  },
  {
   "cell_type": "markdown",
   "id": "05a2b40a",
   "metadata": {},
   "source": [
    "## Atributos"
   ]
  },
  {
   "cell_type": "code",
   "execution_count": null,
   "id": "71a2cb14",
   "metadata": {},
   "outputs": [
    {
     "name": "stdout",
     "output_type": "stream",
     "text": [
      "preto\n"
     ]
    }
   ],
   "source": [
    "\"\"\" \n",
    "Atributos\n",
    "Atributos são “Adjetivos”. A aquilo que é atribuído a algo. Ou seja...\n",
    "“O carro preto” -> preto é um adjetivo referente a cor do carro.\n",
    "Nesse sentido “cor” é um atributo.\n",
    "\n",
    "“Atributos são variáveis internas de uma abstração de dados”\n",
    "\"\"\"\n",
    "\n",
    "class Carro:\n",
    "    cor = \"preto\" # atributo\n",
    "\n",
    "print(Carro.cor)"
   ]
  },
  {
   "cell_type": "markdown",
   "id": "b6d8795d",
   "metadata": {},
   "source": [
    "## Métodos"
   ]
  },
  {
   "cell_type": "code",
   "execution_count": null,
   "id": "73bf3d6e",
   "metadata": {},
   "outputs": [
    {
     "name": "stdout",
     "output_type": "stream",
     "text": [
      "beeeee!!!\n"
     ]
    }
   ],
   "source": [
    "\"\"\" \n",
    "Métodos\n",
    "Métodos são a abstração de processos de uma abstração de dados.\n",
    "São abstrações de processos embutidas nos dados.\n",
    "\n",
    "“São funções internas da classe”\n",
    "\"\"\"\n",
    "\n",
    "class Carro:\n",
    "    cor = \"preto\" # atributo\n",
    "    def buzinar(): # método\n",
    "        print(\"beeeee!!!\")\n",
    "\n",
    "Carro.buzinar()\n"
   ]
  },
  {
   "cell_type": "code",
   "execution_count": null,
   "id": "ff49c9da",
   "metadata": {},
   "outputs": [
    {
     "name": "stdout",
     "output_type": "stream",
     "text": [
      "indefinido\n"
     ]
    }
   ],
   "source": [
    "\"\"\" \n",
    "Métodos também podem manipular o estado dos atributos. \n",
    "O uso disso acontece usando duas palavras específicas 'self' e 'cls'.\n",
    "'Quando o dado quer conversar com ele mesmo'. Ou seja myself, do inglês “Eu mesmo”.\n",
    "\"\"\"\n",
    "\n",
    "class Passaro:\n",
    "    estado = 'indefinido' # atributo\n",
    "\n",
    "    def voar(self): # método\n",
    "        self.estado = 'voando'\n",
    "        print(self.estado)\n",
    "\n",
    "    def pousar(self): # método\n",
    "        self.estado = 'parado'\n",
    "        print(self.estado)\n",
    "\n",
    "print(Passaro.estado) # imprime indefinido\n"
   ]
  },
  {
   "cell_type": "code",
   "execution_count": null,
   "id": "5a7f4557",
   "metadata": {},
   "outputs": [
    {
     "ename": "TypeError",
     "evalue": "Passaro.voar() missing 1 required positional argument: 'self'",
     "output_type": "error",
     "traceback": [
      "\u001b[31m---------------------------------------------------------------------------\u001b[39m",
      "\u001b[31mTypeError\u001b[39m                                 Traceback (most recent call last)",
      "\u001b[36mCell\u001b[39m\u001b[36m \u001b[39m\u001b[32mIn[20]\u001b[39m\u001b[32m, line 1\u001b[39m\n\u001b[32m----> \u001b[39m\u001b[32m1\u001b[39m \u001b[38;5;28mprint\u001b[39m(\u001b[43mPassaro\u001b[49m\u001b[43m.\u001b[49m\u001b[43mvoar\u001b[49m\u001b[43m(\u001b[49m\u001b[43m)\u001b[49m)\n",
      "\u001b[31mTypeError\u001b[39m: Passaro.voar() missing 1 required positional argument: 'self'"
     ]
    }
   ],
   "source": [
    "print(Passaro.voar()) # deu erro pois precisamos criar uma instância"
   ]
  },
  {
   "cell_type": "markdown",
   "id": "ca49b762",
   "metadata": {},
   "source": [
    "## Instância"
   ]
  },
  {
   "cell_type": "code",
   "execution_count": 30,
   "id": "dbae01f2",
   "metadata": {},
   "outputs": [
    {
     "name": "stdout",
     "output_type": "stream",
     "text": [
      "Pássaro 1:\n",
      "indefinido\n",
      "voando\n",
      "voando\n",
      " \n",
      "\n",
      "Pássaro 2:\n",
      "indefinido\n"
     ]
    }
   ],
   "source": [
    "\"\"\" \n",
    "Instância\n",
    "Do inglês 'instance', quer dizer que 'exemplo'.\n",
    "No exemplo dos pássaros, a classe Pássaros é uma abstração do pássaro. \n",
    "Ela é genérica. Já a instância é um pássaro.\n",
    "A classe como tipo é uma generalização de todos os pássaros. \n",
    "O exemplo (instância) é um representante único daquele grupo de entidades.\n",
    "\"\"\"\n",
    "\n",
    "class Passaro:\n",
    "    estado = 'indefinido'\n",
    "\n",
    "    def voar(self):\n",
    "        self.estado = 'voando'\n",
    "        print(self.estado)\n",
    "\n",
    "    def pousar(self):\n",
    "        self.estado = 'parado'\n",
    "        print(self.estado)\n",
    "\n",
    "p1 = Passaro() # instância 1\n",
    "p2 = Passaro() # isntância 2\n",
    "\n",
    "print(\"Pássaro 1:\")\n",
    "print(p1.estado)\n",
    "p1.voar()\n",
    "print(p1.estado)\n",
    "\n",
    "print(\" \\n\")\n",
    "\n",
    "print(\"Pássaro 2:\")\n",
    "print(p2.estado)"
   ]
  },
  {
   "cell_type": "code",
   "execution_count": null,
   "id": "d109ef5c",
   "metadata": {},
   "outputs": [],
   "source": []
  }
 ],
 "metadata": {
  "kernelspec": {
   "display_name": ".venv",
   "language": "python",
   "name": "python3"
  },
  "language_info": {
   "codemirror_mode": {
    "name": "ipython",
    "version": 3
   },
   "file_extension": ".py",
   "mimetype": "text/x-python",
   "name": "python",
   "nbconvert_exporter": "python",
   "pygments_lexer": "ipython3",
   "version": "3.11.13"
  }
 },
 "nbformat": 4,
 "nbformat_minor": 5
}
